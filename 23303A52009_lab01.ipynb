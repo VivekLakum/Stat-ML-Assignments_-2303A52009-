{
  "nbformat": 4,
  "nbformat_minor": 0,
  "metadata": {
    "colab": {
      "provenance": [],
      "authorship_tag": "ABX9TyPGl3B6C5T14WzLmoGdtBA3",
      "include_colab_link": true
    },
    "kernelspec": {
      "name": "python3",
      "display_name": "Python 3"
    },
    "language_info": {
      "name": "python"
    }
  },
  "cells": [
    {
      "cell_type": "markdown",
      "metadata": {
        "id": "view-in-github",
        "colab_type": "text"
      },
      "source": [
        "<a href=\"https://colab.research.google.com/github/VivekLakum/Stat-ML-Assignments_-2303A52009-/blob/main/23303A52009_lab01.ipynb\" target=\"_parent\"><img src=\"https://colab.research.google.com/assets/colab-badge.svg\" alt=\"Open In Colab\"/></a>"
      ]
    },
    {
      "cell_type": "code",
      "execution_count": null,
      "metadata": {
        "id": "UXnYxwdP_pLm"
      },
      "outputs": [],
      "source": [
        "# Question 1\n",
        "import numpy as np\n",
        "import matplotlib.pyplot as plt"
      ]
    },
    {
      "cell_type": "code",
      "source": [
        "x=np.array([2.3, 2.5, 3.6, 2.8, 3.1, 2.9, 3.2, 2.7, 2.8, 3.0])\n"
      ],
      "metadata": {
        "id": "MN4SKFF6cWzt"
      },
      "execution_count": null,
      "outputs": []
    },
    {
      "cell_type": "code",
      "source": [
        "plt.hist(x,bins=5)\n",
        "print(\"         Histogram\")"
      ],
      "metadata": {
        "colab": {
          "base_uri": "https://localhost:8080/",
          "height": 447
        },
        "id": "z8uLTt4AdWJq",
        "outputId": "285ccf3b-15aa-40e3-f132-52124cca8ec6"
      },
      "execution_count": null,
      "outputs": [
        {
          "output_type": "stream",
          "name": "stdout",
          "text": [
            "         Histogram\n"
          ]
        },
        {
          "output_type": "display_data",
          "data": {
            "text/plain": [
              "<Figure size 640x480 with 1 Axes>"
            ],
            "image/png": "[encoded data removed]"
          },
          "metadata": {}
        }
      ]
    },
    {
      "cell_type": "code",
      "source": [
        "# Find Mean, Median, Mode , Variance , Standard deviation , Range , Interquartile Range (IQR),  Skewness ,Kurtosis of x and y"
      ],
      "metadata": {
        "id": "WZ3XWJB_gb4b"
      },
      "execution_count": null,
      "outputs": []
    },
    {
      "cell_type": "code",
      "source": [
        "import numpy as np\n",
        "from scipy import stats as s\n",
        "import matplotlib.pyplot as plt"
      ],
      "metadata": {
        "id": "L6hZC3Y3hGeA"
      },
      "execution_count": null,
      "outputs": []
    },
    {
      "cell_type": "code",
      "source": [
        "x=[4, 5, 8, 2, 4, 2, 5]\n",
        "y=[5, 6, 3, 8, 3, 7, 8]"
      ],
      "metadata": {
        "id": "Ha9J4tVzprqC"
      },
      "execution_count": null,
      "outputs": []
    },
    {
      "cell_type": "code",
      "source": [
        "print(\"Mean of x is\",np.mean(x))\n",
        "print(\"Mean of y is\",np.mean(y))\n"
      ],
      "metadata": {
        "colab": {
          "base_uri": "https://localhost:8080/"
        },
        "id": "l6AphoOvqZ9a",
        "outputId": "6fa70591-e0c1-46c0-c05a-459772bb5dcd"
      },
      "execution_count": null,
      "outputs": [
        {
          "output_type": "stream",
          "name": "stdout",
          "text": [
            "Mean of x is 4.285714285714286\n",
            "Mean of y is 5.714285714285714\n"
          ]
        }
      ]
    },
    {
      "cell_type": "code",
      "source": [
        "print(\"Median of x is\",np.median(x))\n",
        "print(\"Median of y is\",np.median(y))"
      ],
      "metadata": {
        "colab": {
          "base_uri": "https://localhost:8080/"
        },
        "id": "dbaVNI6qvy-J",
        "outputId": "5ad8b1b3-d2c2-4f14-95b2-0df83bc83d17"
      },
      "execution_count": null,
      "outputs": [
        {
          "output_type": "stream",
          "name": "stdout",
          "text": [
            "Median of x is 4.0\n",
            "Median of y is 6.0\n"
          ]
        }
      ]
    },
    {
      "cell_type": "code",
      "source": [
        "print(\"Mode of x is\",s.mode(x))\n",
        "print(\"Mode of y is\",s.mode(y))"
      ],
      "metadata": {
        "colab": {
          "base_uri": "https://localhost:8080/"
        },
        "id": "0mEPKt1ewrCP",
        "outputId": "a02a7feb-5f5f-4006-ec34-6970bc7288b7"
      },
      "execution_count": null,
      "outputs": [
        {
          "output_type": "stream",
          "name": "stdout",
          "text": [
            "Mode of x is ModeResult(mode=2, count=2)\n",
            "Mode of y is ModeResult(mode=3, count=2)\n"
          ]
        }
      ]
    },
    {
      "cell_type": "code",
      "source": [
        "print(\"Variance of x is\",np.var(x))\n",
        "print(\"Variance of y is\",np.var(y))"
      ],
      "metadata": {
        "colab": {
          "base_uri": "https://localhost:8080/"
        },
        "id": "YgbSGq5tyhOX",
        "outputId": "be892674-af4b-4959-9db3-e72d0968869b"
      },
      "execution_count": null,
      "outputs": [
        {
          "output_type": "stream",
          "name": "stdout",
          "text": [
            "Variance of x is 3.6326530612244894\n",
            "Variance of y is 3.918367346938776\n"
          ]
        }
      ]
    },
    {
      "cell_type": "code",
      "source": [
        "print(\"Standard deviation of x is\",np.std(x))\n",
        "print(\"Standard deviation of y is\",np.std(y))"
      ],
      "metadata": {
        "colab": {
          "base_uri": "https://localhost:8080/"
        },
        "id": "OIjIyT44ykJj",
        "outputId": "0d8906c9-6d3b-42ef-9799-ca3e131d468c"
      },
      "execution_count": null,
      "outputs": [
        {
          "output_type": "stream",
          "name": "stdout",
          "text": [
            "Standard deviation of x is 1.9059520091609048\n",
            "Standard deviation of y is 1.979486637221574\n"
          ]
        }
      ]
    },
    {
      "cell_type": "code",
      "source": [
        "print(\"Range of x is\",max(x)-min(x))\n",
        "print(\"Range of y is\",max(y)-min(y))"
      ],
      "metadata": {
        "colab": {
          "base_uri": "https://localhost:8080/"
        },
        "id": "W_8dXHPqzT4M",
        "outputId": "ddda2384-fa7f-4038-bc21-7046e62729bb"
      },
      "execution_count": null,
      "outputs": [
        {
          "output_type": "stream",
          "name": "stdout",
          "text": [
            "Range of x is 6\n",
            "Range of y is 5\n"
          ]
        }
      ]
    },
    {
      "cell_type": "code",
      "source": [
        "print(\"Interquartile range of x is\",np.percentile(x,75)-np.percentile(x,25))\n",
        "print(\"Interquartile range of y is\",np.percentile(y,75)-np.percentile(y,25))"
      ],
      "metadata": {
        "colab": {
          "base_uri": "https://localhost:8080/"
        },
        "id": "FyFd2_c60gCt",
        "outputId": "cc32280c-664b-44b6-f590-f0e94457ba72"
      },
      "execution_count": null,
      "outputs": [
        {
          "output_type": "stream",
          "name": "stdout",
          "text": [
            "Interquartile range of x is 2.0\n",
            "Interquartile range of y is 3.5\n"
          ]
        }
      ]
    },
    {
      "cell_type": "code",
      "source": [
        "import numpy as np\n",
        "\n",
        "\n",
        "x = [4, 5, 8, 2, 4, 2, 5]\n",
        "y = [5, 6, 3, 8, 3, 7, 8]\n",
        "\n",
        "n_x = len(x)\n",
        "mean_x = np.mean(x)\n",
        "std_dev_x = np.sqrt(np.sum((np.array(x) - mean_x) ** 2) / (n_x - 1))\n",
        "skewness_x = (n_x / ((n_x - 1) * (n_x - 2))) * np.sum(((np.array(x) - mean_x) / std_dev_x) ** 3)\n",
        "\n",
        "\n",
        "n_y = len(y)\n",
        "mean_y = np.mean(y)\n",
        "std_dev_y = np.sqrt(np.sum((np.array(y) - mean_y) ** 2) / (n_y - 1))\n",
        "skewness_y = (n_y / ((n_y - 1) * (n_y - 2))) * np.sum(((np.array(y) - mean_y) / std_dev_y) ** 3)\n",
        "\n",
        "print(\"Skewness of x:\", skewness_x)\n",
        "print(\"Skewness of y:\", skewness_y)\n"
      ],
      "metadata": {
        "colab": {
          "base_uri": "https://localhost:8080/"
        },
        "id": "il4Veu6i1ecP",
        "outputId": "361bbd5f-6070-4d06-9a48-16a6c8d319b9"
      },
      "execution_count": null,
      "outputs": [
        {
          "output_type": "stream",
          "name": "stdout",
          "text": [
            "Skewness of x: 0.749913842326791\n",
            "Skewness of y: -0.34201087050980616\n"
          ]
        }
      ]
    },
    {
      "cell_type": "code",
      "source": [
        "import numpy as np\n",
        "\n",
        "x = [4, 5, 8, 2, 4, 2, 5]\n",
        "y = [5, 6, 3, 8, 3, 7, 8]\n",
        "\n",
        "\n",
        "n_x = len(x)\n",
        "mean_x = np.mean(x)\n",
        "std_dev_x = np.sqrt(np.sum((np.array(x) - mean_x) ** 2) / (n_x - 1))\n",
        "kurtosis_x = (n_x * (n_x + 1) * np.sum(((np.array(x) - mean_x) / std_dev_x) ** 4) /\n",
        "              ((n_x - 1) * (n_x - 2) * (n_x - 3))) - (3 * (n_x - 1)**2 / ((n_x - 2) * (n_x - 3)))\n",
        "\n",
        "\n",
        "n_y = len(y)\n",
        "mean_y = np.mean(y)\n",
        "std_dev_y = np.sqrt(np.sum((np.array(y) - mean_y) ** 2) / (n_y - 1))\n",
        "kurtosis_y = (n_y * (n_y + 1) * np.sum(((np.array(y) - mean_y) / std_dev_y) ** 4) /\n",
        "              ((n_y - 1) * (n_y - 2) * (n_y - 3))) - (3 * (n_y - 1)**2 / ((n_y - 2) * (n_y - 3)))\n",
        "\n",
        "print(\"Kurtosis of x:\", kurtosis_x)\n",
        "print(\"Kurtosis of y:\", kurtosis_y)\n"
      ],
      "metadata": {
        "colab": {
          "base_uri": "https://localhost:8080/"
        },
        "id": "zhNTYrpg1jBY",
        "outputId": "3cbf5cf7-6111-4855-fff4-0ea44cfb60f8"
      },
      "execution_count": null,
      "outputs": [
        {
          "output_type": "stream",
          "name": "stdout",
          "text": [
            "Kurtosis of x: 0.9772250978411803\n",
            "Kurtosis of y: -1.6898437500000005\n"
          ]
        }
      ]
    },
    {
      "cell_type": "code",
      "source": [
        "# question 3\n",
        "#From the above data Find Mean, Median, Mode, Variance, Standard deviation, Range , Interquartile Range (IQR),  Skewness ,Kurtosis of each feature."
      ],
      "metadata": {
        "id": "B3U7n58t6Rl9"
      },
      "execution_count": null,
      "outputs": []
    },
    {
      "cell_type": "code",
      "source": [
        "import pandas as pd\n",
        "import numpy as np\n",
        "from scipy import stats as s\n",
        "import matplotlib.pyplot as plt"
      ],
      "metadata": {
        "id": "QwerjyWE78-h"
      },
      "execution_count": null,
      "outputs": []
    },
    {
      "cell_type": "code",
      "source": [
        "d=pd.read_csv('/content/sample_data/california_housing_train.csv')\n",
        "d"
      ],
      "metadata": {
        "colab": {
          "base_uri": "https://localhost:8080/",
          "height": 424
        },
        "id": "K-gmrGSM8aMO",
        "outputId": "2094d4ba-28a6-4965-ff3d-ac40df64f965"
      },
      "execution_count": null,
      "outputs": [
        {
          "output_type": "execute_result",
          "data": {
            "text/plain": [
              "       longitude  latitude  housing_median_age  total_rooms  total_bedrooms  \\\n",
              "0        -114.31     34.19                15.0       5612.0          1283.0   \n",
              "1        -114.47     34.40                19.0       7650.0          1901.0   \n",
              "2        -114.56     33.69                17.0        720.0           174.0   \n",
              "3        -114.57     33.64                14.0       1501.0           337.0   \n",
              "4        -114.57     33.57                20.0       1454.0           326.0   \n",
              "...          ...       ...                 ...          ...             ...   \n",
              "16995    -124.26     40.58                52.0       2217.0           394.0   \n",
              "16996    -124.27     40.69                36.0       2349.0           528.0   \n",
              "16997    -124.30     41.84                17.0       2677.0           531.0   \n",
              "16998    -124.30     41.80                19.0       2672.0           552.0   \n",
              "16999    -124.35     40.54                52.0       1820.0           300.0   \n",
              "\n",
              "       population  households  median_income  median_house_value  \n",
              "0          1015.0       472.0         1.4936             66900.0  \n",
              "1          1129.0       463.0         1.8200             80100.0  \n",
              "2           333.0       117.0         1.6509             85700.0  \n",
              "3           515.0       226.0         3.1917             73400.0  \n",
              "4           624.0       262.0         1.9250             65500.0  \n",
              "...           ...         ...            ...                 ...  \n",
              "16995       907.0       369.0         2.3571            111400.0  \n",
              "16996      1194.0       465.0         2.5179             79000.0  \n",
              "16997      1244.0       456.0         3.0313            103600.0  \n",
              "16998      1298.0       478.0         1.9797             85800.0  \n",
              "16999       806.0       270.0         3.0147             94600.0  \n",
              "\n",
              "[17000 rows x 9 columns]"
            ],
            "text/html": [
              "\n",
              "  <div id=\"df-ede65f72-3bb1-464b-98ec-b573820a27c6\" class=\"colab-df-container\">\n",
              "    <div>\n",
              "<style scoped>\n",
              "    .dataframe tbody tr th:only-of-type {\n",
              "        vertical-align: middle;\n",
              "    }\n",
              "\n",
              "    .dataframe tbody tr th {\n",
              "        vertical-align: top;\n",
              "    }\n",
              "\n",
              "    .dataframe thead th {\n",
              "        text-align: right;\n",
              "    }\n",
              "</style>\n",
              "<table border=\"1\" class=\"dataframe\">\n",
              "  <thead>\n",
              "    <tr style=\"text-align: right;\">\n",
              "      <th></th>\n",
              "      <th>longitude</th>\n",
              "      <th>latitude</th>\n",
              "      <th>housing_median_age</th>\n",
              "      <th>total_rooms</th>\n",
              "      <th>total_bedrooms</th>\n",
              "      <th>population</th>\n",
              "      <th>households</th>\n",
              "      <th>median_income</th>\n",
              "      <th>median_house_value</th>\n",
              "    </tr>\n",
              "  </thead>\n",
              "  <tbody>\n",
              "    <tr>\n",
              "      <th>0</th>\n",
              "      <td>-114.31</td>\n",
              "      <td>34.19</td>\n",
              "      <td>15.0</td>\n",
              "      <td>5612.0</td>\n",
              "      <td>1283.0</td>\n",
              "      <td>1015.0</td>\n",
              "      <td>472.0</td>\n",
              "      <td>1.4936</td>\n",
              "      <td>66900.0</td>\n",
              "    </tr>\n",
              "    <tr>\n",
              "      <th>1</th>\n",
              "      <td>-114.47</td>\n",
              "      <td>34.40</td>\n",
              "      <td>19.0</td>\n",
              "      <td>7650.0</td>\n",
              "      <td>1901.0</td>\n",
              "      <td>1129.0</td>\n",
              "      <td>463.0</td>\n",
              "      <td>1.8200</td>\n",
              "      <td>80100.0</td>\n",
              "    </tr>\n",
              "    <tr>\n",
              "      <th>2</th>\n",
              "      <td>-114.56</td>\n",
              "      <td>33.69</td>\n",
              "      <td>17.0</td>\n",
              "      <td>720.0</td>\n",
              "      <td>174.0</td>\n",
              "      <td>333.0</td>\n",
              "      <td>117.0</td>\n",
              "      <td>1.6509</td>\n",
              "      <td>85700.0</td>\n",
              "    </tr>\n",
              "    <tr>\n",
              "      <th>3</th>\n",
              "      <td>-114.57</td>\n",
              "      <td>33.64</td>\n",
              "      <td>14.0</td>\n",
              "      <td>1501.0</td>\n",
              "      <td>337.0</td>\n",
              "      <td>515.0</td>\n",
              "      <td>226.0</td>\n",
              "      <td>3.1917</td>\n",
              "      <td>73400.0</td>\n",
              "    </tr>\n",
              "    <tr>\n",
              "      <th>4</th>\n",
              "      <td>-114.57</td>\n",
              "      <td>33.57</td>\n",
              "      <td>20.0</td>\n",
              "      <td>1454.0</td>\n",
              "      <td>326.0</td>\n",
              "      <td>624.0</td>\n",
              "      <td>262.0</td>\n",
              "      <td>1.9250</td>\n",
              "      <td>65500.0</td>\n",
              "    </tr>\n",
              "    <tr>\n",
              "      <th>...</th>\n",
              "      <td>...</td>\n",
              "      <td>...</td>\n",
              "      <td>...</td>\n",
              "      <td>...</td>\n",
              "      <td>...</td>\n",
              "      <td>...</td>\n",
              "      <td>...</td>\n",
              "      <td>...</td>\n",
              "      <td>...</td>\n",
              "    </tr>\n",
              "    <tr>\n",
              "      <th>16995</th>\n",
              "      <td>-124.26</td>\n",
              "      <td>40.58</td>\n",
              "      <td>52.0</td>\n",
              "      <td>2217.0</td>\n",
              "      <td>394.0</td>\n",
              "      <td>907.0</td>\n",
              "      <td>369.0</td>\n",
              "      <td>2.3571</td>\n",
              "      <td>111400.0</td>\n",
              "    </tr>\n",
              "    <tr>\n",
              "      <th>16996</th>\n",
              "      <td>-124.27</td>\n",
              "      <td>40.69</td>\n",
              "      <td>36.0</td>\n",
              "      <td>2349.0</td>\n",
              "      <td>528.0</td>\n",
              "      <td>1194.0</td>\n",
              "      <td>465.0</td>\n",
              "      <td>2.5179</td>\n",
              "      <td>79000.0</td>\n",
              "    </tr>\n",
              "    <tr>\n",
              "      <th>16997</th>\n",
              "      <td>-124.30</td>\n",
              "      <td>41.84</td>\n",
              "      <td>17.0</td>\n",
              "      <td>2677.0</td>\n",
              "      <td>531.0</td>\n",
              "      <td>1244.0</td>\n",
              "      <td>456.0</td>\n",
              "      <td>3.0313</td>\n",
              "      <td>103600.0</td>\n",
              "    </tr>\n",
              "    <tr>\n",
              "      <th>16998</th>\n",
              "      <td>-124.30</td>\n",
              "      <td>41.80</td>\n",
              "      <td>19.0</td>\n",
              "      <td>2672.0</td>\n",
              "      <td>552.0</td>\n",
              "      <td>1298.0</td>\n",
              "      <td>478.0</td>\n",
              "      <td>1.9797</td>\n",
              "      <td>85800.0</td>\n",
              "    </tr>\n",
              "    <tr>\n",
              "      <th>16999</th>\n",
              "      <td>-124.35</td>\n",
              "      <td>40.54</td>\n",
              "      <td>52.0</td>\n",
              "      <td>1820.0</td>\n",
              "      <td>300.0</td>\n",
              "      <td>806.0</td>\n",
              "      <td>270.0</td>\n",
              "      <td>3.0147</td>\n",
              "      <td>94600.0</td>\n",
              "    </tr>\n",
              "  </tbody>\n",
              "</table>\n",
              "<p>17000 rows × 9 columns</p>\n",
              "</div>\n",
              "    <div class=\"colab-df-buttons\">\n",
              "\n",
              "  <div class=\"colab-df-container\">\n",
              "    <button class=\"colab-df-convert\" onclick=\"convertToInteractive('df-ede65f72-3bb1-464b-98ec-b573820a27c6')\"\n",
              "            title=\"Convert this dataframe to an interactive table.\"\n",
              "            style=\"display:none;\">\n",
              "\n",
              "  <svg xmlns=\"http://www.w3.org/2000/svg\" height=\"24px\" viewBox=\"0 -960 960 960\">\n",
              "    <path d=\"M120-120v-720h720v720H120Zm60-500h600v-160H180v160Zm220 220h160v-160H400v160Zm0 220h160v-160H400v160ZM180-400h160v-160H180v160Zm440 0h160v-160H620v160ZM180-180h160v-160H180v160Zm440 0h160v-160H620v160Z\"/>\n",
              "  </svg>\n",
              "    </button>\n",
              "\n",
              "  <style>\n",
              "    .colab-df-container {\n",
              "      display:flex;\n",
              "      gap: 12px;\n",
              "    }\n",
              "\n",
              "    .colab-df-convert {\n",
              "      background-color: #E8F0FE;\n",
              "      border: none;\n",
              "      border-radius: 50%;\n",
              "      cursor: pointer;\n",
              "      display: none;\n",
              "      fill: #1967D2;\n",
              "      height: 32px;\n",
              "      padding: 0 0 0 0;\n",
              "      width: 32px;\n",
              "    }\n",
              "\n",
              "    .colab-df-convert:hover {\n",
              "      background-color: #E2EBFA;\n",
              "      box-shadow: 0px 1px 2px rgba(60, 64, 67, 0.3), 0px 1px 3px 1px rgba(60, 64, 67, 0.15);\n",
              "      fill: #174EA6;\n",
              "    }\n",
              "\n",
              "    .colab-df-buttons div {\n",
              "      margin-bottom: 4px;\n",
              "    }\n",
              "\n",
              "    [theme=dark] .colab-df-convert {\n",
              "      background-color: #3B4455;\n",
              "      fill: #D2E3FC;\n",
              "    }\n",
              "\n",
              "    [theme=dark] .colab-df-convert:hover {\n",
              "      background-color: #434B5C;\n",
              "      box-shadow: 0px 1px 3px 1px rgba(0, 0, 0, 0.15);\n",
              "      filter: drop-shadow(0px 1px 2px rgba(0, 0, 0, 0.3));\n",
              "      fill: #FFFFFF;\n",
              "    }\n",
              "  </style>\n",
              "\n",
              "    <script>\n",
              "      const buttonEl =\n",
              "        document.querySelector('#df-ede65f72-3bb1-464b-98ec-b573820a27c6 button.colab-df-convert');\n",
              "      buttonEl.style.display =\n",
              "        google.colab.kernel.accessAllowed ? 'block' : 'none';\n",
              "\n",
              "      async function convertToInteractive(key) {\n",
              "        const element = document.querySelector('#df-ede65f72-3bb1-464b-98ec-b573820a27c6');\n",
              "        const dataTable =\n",
              "          await google.colab.kernel.invokeFunction('convertToInteractive',\n",
              "                                                    [key], {});\n",
              "        if (!dataTable) return;\n",
              "\n",
              "        const docLinkHtml = 'Like what you see? Visit the ' +\n",
              "          '<a target=\"_blank\" href=https://colab.research.google.com/notebooks/data_table.ipynb>data table notebook</a>'\n",
              "          + ' to learn more about interactive tables.';\n",
              "        element.innerHTML = '';\n",
              "        dataTable['output_type'] = 'display_data';\n",
              "        await google.colab.output.renderOutput(dataTable, element);\n",
              "        const docLink = document.createElement('div');\n",
              "        docLink.innerHTML = docLinkHtml;\n",
              "        element.appendChild(docLink);\n",
              "      }\n",
              "    </script>\n",
              "  </div>\n",
              "\n",
              "\n",
              "<div id=\"df-7550525a-78a1-4840-a9e2-f5acd5e8c113\">\n",
              "  <button class=\"colab-df-quickchart\" onclick=\"quickchart('df-7550525a-78a1-4840-a9e2-f5acd5e8c113')\"\n",
              "            title=\"Suggest charts\"\n",
              "            style=\"display:none;\">\n",
              "\n",
              "<svg xmlns=\"http://www.w3.org/2000/svg\" height=\"24px\"viewBox=\"0 0 24 24\"\n",
              "     width=\"24px\">\n",
              "    <g>\n",
              "        <path d=\"M19 3H5c-1.1 0-2 .9-2 2v14c0 1.1.9 2 2 2h14c1.1 0 2-.9 2-2V5c0-1.1-.9-2-2-2zM9 17H7v-7h2v7zm4 0h-2V7h2v10zm4 0h-2v-4h2v4z\"/>\n",
              "    </g>\n",
              "</svg>\n",
              "  </button>\n",
              "\n",
              "<style>\n",
              "  .colab-df-quickchart {\n",
              "      --bg-color: #E8F0FE;\n",
              "      --fill-color: #1967D2;\n",
              "      --hover-bg-color: #E2EBFA;\n",
              "      --hover-fill-color: #174EA6;\n",
              "      --disabled-fill-color: #AAA;\n",
              "      --disabled-bg-color: #DDD;\n",
              "  }\n",
              "\n",
              "  [theme=dark] .colab-df-quickchart {\n",
              "      --bg-color: #3B4455;\n",
              "      --fill-color: #D2E3FC;\n",
              "      --hover-bg-color: #434B5C;\n",
              "      --hover-fill-color: #FFFFFF;\n",
              "      --disabled-bg-color: #3B4455;\n",
              "      --disabled-fill-color: #666;\n",
              "  }\n",
              "\n",
              "  .colab-df-quickchart {\n",
              "    background-color: var(--bg-color);\n",
              "    border: none;\n",
              "    border-radius: 50%;\n",
              "    cursor: pointer;\n",
              "    display: none;\n",
              "    fill: var(--fill-color);\n",
              "    height: 32px;\n",
              "    padding: 0;\n",
              "    width: 32px;\n",
              "  }\n",
              "\n",
              "  .colab-df-quickchart:hover {\n",
              "    background-color: var(--hover-bg-color);\n",
              "    box-shadow: 0 1px 2px rgba(60, 64, 67, 0.3), 0 1px 3px 1px rgba(60, 64, 67, 0.15);\n",
              "    fill: var(--button-hover-fill-color);\n",
              "  }\n",
              "\n",
              "  .colab-df-quickchart-complete:disabled,\n",
              "  .colab-df-quickchart-complete:disabled:hover {\n",
              "    background-color: var(--disabled-bg-color);\n",
              "    fill: var(--disabled-fill-color);\n",
              "    box-shadow: none;\n",
              "  }\n",
              "\n",
              "  .colab-df-spinner {\n",
              "    border: 2px solid var(--fill-color);\n",
              "    border-color: transparent;\n",
              "    border-bottom-color: var(--fill-color);\n",
              "    animation:\n",
              "      spin 1s steps(1) infinite;\n",
              "  }\n",
              "\n",
              "  @keyframes spin {\n",
              "    0% {\n",
              "      border-color: transparent;\n",
              "      border-bottom-color: var(--fill-color);\n",
              "      border-left-color: var(--fill-color);\n",
              "    }\n",
              "    20% {\n",
              "      border-color: transparent;\n",
              "      border-left-color: var(--fill-color);\n",
              "      border-top-color: var(--fill-color);\n",
              "    }\n",
              "    30% {\n",
              "      border-color: transparent;\n",
              "      border-left-color: var(--fill-color);\n",
              "      border-top-color: var(--fill-color);\n",
              "      border-right-color: var(--fill-color);\n",
              "    }\n",
              "    40% {\n",
              "      border-color: transparent;\n",
              "      border-right-color: var(--fill-color);\n",
              "      border-top-color: var(--fill-color);\n",
              "    }\n",
              "    60% {\n",
              "      border-color: transparent;\n",
              "      border-right-color: var(--fill-color);\n",
              "    }\n",
              "    80% {\n",
              "      border-color: transparent;\n",
              "      border-right-color: var(--fill-color);\n",
              "      border-bottom-color: var(--fill-color);\n",
              "    }\n",
              "    90% {\n",
              "      border-color: transparent;\n",
              "      border-bottom-color: var(--fill-color);\n",
              "    }\n",
              "  }\n",
              "</style>\n",
              "\n",
              "  <script>\n",
              "    async function quickchart(key) {\n",
              "      const quickchartButtonEl =\n",
              "        document.querySelector('#' + key + ' button');\n",
              "      quickchartButtonEl.disabled = true;  // To prevent multiple clicks.\n",
              "      quickchartButtonEl.classList.add('colab-df-spinner');\n",
              "      try {\n",
              "        const charts = await google.colab.kernel.invokeFunction(\n",
              "            'suggestCharts', [key], {});\n",
              "      } catch (error) {\n",
              "        console.error('Error during call to suggestCharts:', error);\n",
              "      }\n",
              "      quickchartButtonEl.classList.remove('colab-df-spinner');\n",
              "      quickchartButtonEl.classList.add('colab-df-quickchart-complete');\n",
              "    }\n",
              "    (() => {\n",
              "      let quickchartButtonEl =\n",
              "        document.querySelector('#df-7550525a-78a1-4840-a9e2-f5acd5e8c113 button');\n",
              "      quickchartButtonEl.style.display =\n",
              "        google.colab.kernel.accessAllowed ? 'block' : 'none';\n",
              "    })();\n",
              "  </script>\n",
              "</div>\n",
              "\n",
              "  <div id=\"id_2b25f9de-ceaf-4cd9-bebc-5b3bc85b48df\">\n",
              "    <style>\n",
              "      .colab-df-generate {\n",
              "        background-color: #E8F0FE;\n",
              "        border: none;\n",
              "        border-radius: 50%;\n",
              "        cursor: pointer;\n",
              "        display: none;\n",
              "        fill: #1967D2;\n",
              "        height: 32px;\n",
              "        padding: 0 0 0 0;\n",
              "        width: 32px;\n",
              "      }\n",
              "\n",
              "      .colab-df-generate:hover {\n",
              "        background-color: #E2EBFA;\n",
              "        box-shadow: 0px 1px 2px rgba(60, 64, 67, 0.3), 0px 1px 3px 1px rgba(60, 64, 67, 0.15);\n",
              "        fill: #174EA6;\n",
              "      }\n",
              "\n",
              "      [theme=dark] .colab-df-generate {\n",
              "        background-color: #3B4455;\n",
              "        fill: #D2E3FC;\n",
              "      }\n",
              "\n",
              "      [theme=dark] .colab-df-generate:hover {\n",
              "        background-color: #434B5C;\n",
              "        box-shadow: 0px 1px 3px 1px rgba(0, 0, 0, 0.15);\n",
              "        filter: drop-shadow(0px 1px 2px rgba(0, 0, 0, 0.3));\n",
              "        fill: #FFFFFF;\n",
              "      }\n",
              "    </style>\n",
              "    <button class=\"colab-df-generate\" onclick=\"generateWithVariable('d')\"\n",
              "            title=\"Generate code using this dataframe.\"\n",
              "            style=\"display:none;\">\n",
              "\n",
              "  <svg xmlns=\"http://www.w3.org/2000/svg\" height=\"24px\"viewBox=\"0 0 24 24\"\n",
              "       width=\"24px\">\n",
              "    <path d=\"M7,19H8.4L18.45,9,17,7.55,7,17.6ZM5,21V16.75L18.45,3.32a2,2,0,0,1,2.83,0l1.4,1.43a1.91,1.91,0,0,1,.58,1.4,1.91,1.91,0,0,1-.58,1.4L9.25,21ZM18.45,9,17,7.55Zm-12,3A5.31,5.31,0,0,0,4.9,8.1,5.31,5.31,0,0,0,1,6.5,5.31,5.31,0,0,0,4.9,4.9,5.31,5.31,0,0,0,6.5,1,5.31,5.31,0,0,0,8.1,4.9,5.31,5.31,0,0,0,12,6.5,5.46,5.46,0,0,0,6.5,12Z\"/>\n",
              "  </svg>\n",
              "    </button>\n",
              "    <script>\n",
              "      (() => {\n",
              "      const buttonEl =\n",
              "        document.querySelector('#id_2b25f9de-ceaf-4cd9-bebc-5b3bc85b48df button.colab-df-generate');\n",
              "      buttonEl.style.display =\n",
              "        google.colab.kernel.accessAllowed ? 'block' : 'none';\n",
              "\n",
              "      buttonEl.onclick = () => {\n",
              "        google.colab.notebook.generateWithVariable('d');\n",
              "      }\n",
              "      })();\n",
              "    </script>\n",
              "  </div>\n",
              "\n",
              "    </div>\n",
              "  </div>\n"
            ],
            "application/vnd.google.colaboratory.intrinsic+json": {
              "type": "dataframe",
              "variable_name": "d",
              "summary": "{\n  \"name\": \"d\",\n  \"rows\": 17000,\n  \"fields\": [\n    {\n      \"column\": \"longitude\",\n      \"properties\": {\n        \"dtype\": \"number\",\n        \"std\": 2.0051664084261778,\n        \"min\": -124.35,\n        \"max\": -114.31,\n        \"num_unique_values\": 827,\n        \"samples\": [\n          -117.56,\n          -123.32,\n          -118.26\n        ],\n        \"semantic_type\": \"\",\n        \"description\": \"\"\n      }\n    },\n    {\n      \"column\": \"latitude\",\n      \"properties\": {\n        \"dtype\": \"number\",\n        \"std\": 2.1373397946570836,\n        \"min\": 32.54,\n        \"max\": 41.95,\n        \"num_unique_values\": 840,\n        \"samples\": [\n          38.44,\n          40.79,\n          32.69\n        ],\n        \"semantic_type\": \"\",\n        \"description\": \"\"\n      }\n    },\n    {\n      \"column\": \"housing_median_age\",\n      \"properties\": {\n        \"dtype\": \"number\",\n        \"std\": 12.586936981660399,\n        \"min\": 1.0,\n        \"max\": 52.0,\n        \"num_unique_values\": 52,\n        \"samples\": [\n          23.0,\n          52.0,\n          47.0\n        ],\n        \"semantic_type\": \"\",\n        \"description\": \"\"\n      }\n    },\n    {\n      \"column\": \"total_rooms\",\n      \"properties\": {\n        \"dtype\": \"number\",\n        \"std\": 2179.947071452767,\n        \"min\": 2.0,\n        \"max\": 37937.0,\n        \"num_unique_values\": 5533,\n        \"samples\": [\n          3564.0,\n          6955.0,\n          5451.0\n        ],\n        \"semantic_type\": \"\",\n        \"description\": \"\"\n      }\n    },\n    {\n      \"column\": \"total_bedrooms\",\n      \"properties\": {\n        \"dtype\": \"number\",\n        \"std\": 421.4994515798646,\n        \"min\": 1.0,\n        \"max\": 6445.0,\n        \"num_unique_values\": 1848,\n        \"samples\": [\n          729.0,\n          719.0,\n          2075.0\n        ],\n        \"semantic_type\": \"\",\n        \"description\": \"\"\n      }\n    },\n    {\n      \"column\": \"population\",\n      \"properties\": {\n        \"dtype\": \"number\",\n        \"std\": 1147.8529591595266,\n        \"min\": 3.0,\n        \"max\": 35682.0,\n        \"num_unique_values\": 3683,\n        \"samples\": [\n          249.0,\n          1735.0,\n          235.0\n        ],\n        \"semantic_type\": \"\",\n        \"description\": \"\"\n      }\n    },\n    {\n      \"column\": \"households\",\n      \"properties\": {\n        \"dtype\": \"number\",\n        \"std\": 384.5208408559009,\n        \"min\": 1.0,\n        \"max\": 6082.0,\n        \"num_unique_values\": 1740,\n        \"samples\": [\n          390.0,\n          1089.0,\n          1351.0\n        ],\n        \"semantic_type\": \"\",\n        \"description\": \"\"\n      }\n    },\n    {\n      \"column\": \"median_income\",\n      \"properties\": {\n        \"dtype\": \"number\",\n        \"std\": 1.9081565183791036,\n        \"min\": 0.4999,\n        \"max\": 15.0001,\n        \"num_unique_values\": 11175,\n        \"samples\": [\n          7.2655,\n          5.6293,\n          4.2262\n        ],\n        \"semantic_type\": \"\",\n        \"description\": \"\"\n      }\n    },\n    {\n      \"column\": \"median_house_value\",\n      \"properties\": {\n        \"dtype\": \"number\",\n        \"std\": 115983.76438720885,\n        \"min\": 14999.0,\n        \"max\": 500001.0,\n        \"num_unique_values\": 3694,\n        \"samples\": [\n          162300.0,\n          346800.0,\n          116700.0\n        ],\n        \"semantic_type\": \"\",\n        \"description\": \"\"\n      }\n    }\n  ]\n}"
            }
          },
          "metadata": {},
          "execution_count": 4
        }
      ]
    },
    {
      "cell_type": "code",
      "source": [
        "print(\"1.)Mean of Longitude is\",np.mean(d['longitude']))\n",
        "print(\"2.)Mean of Latitude is\",np.mean(d['latitude']))\n",
        "print(\"3.)Mean of Housing Median Age is\",np.mean(d['housing_median_age']))\n",
        "print(\"4.)Mean of Total Rooms is\",np.mean(d['total_rooms']))\n",
        "print(\"5.)Mean of Total Bedrooms is\",np.mean(d['total_bedrooms']))\n",
        "print(\"6.)Mean of Population is\",np.mean(d['population']))\n",
        "print(\"7.)Mean of Households is\",np.mean(d['households']))\n",
        "print(\"8.)Mean of Median Income is\",np.mean(d['median_income']))\n",
        "print(\"9.)Mean of Median House_value is\",np.mean(d['median_house_value']))"
      ],
      "metadata": {
        "colab": {
          "base_uri": "https://localhost:8080/"
        },
        "id": "h5dj7R7Y9867",
        "outputId": "49b4bfef-df41-437f-89cd-f932e5cc6a41"
      },
      "execution_count": null,
      "outputs": [
        {
          "output_type": "stream",
          "name": "stdout",
          "text": [
            "1).Mean of Longitude is -119.5621082352941\n",
            "2.)Mean of Latitude is 35.62522470588235\n",
            "3.)Mean of Housing Median Age is 28.58935294117647\n",
            "4.)Mean of Total Rooms is 2643.664411764706\n",
            "5.)Mean of Total Bedrooms is 539.4108235294118\n",
            "6.)Mean of Population is 1429.5739411764705\n",
            "7.)Mean of Households is 501.2219411764706\n",
            "8.)Mean of Median Income is 3.8835781000000007\n",
            "9.)Mean of Median House_value is 207300.91235294117\n"
          ]
        }
      ]
    },
    {
      "cell_type": "code",
      "source": [
        "print(\"1.)Median of Longitude is\",np.median(d['longitude']))\n",
        "print(\"2.)Median of Latitude is\",np.median(d['latitude']))\n",
        "print(\"3.)Median of Housing Median Age is\",np.median(d['housing_median_age']))\n",
        "print(\"4.)Median of Total Rooms is\",np.median(d['total_rooms']))\n",
        "print(\"5.)Median of Total Bedrooms is\",np.median(d['total_bedrooms']))\n",
        "print(\"6.)Median of population is\",np.median(d['population']))\n",
        "print(\"7.)Median of Households is\",np.median(d['households']))\n",
        "print(\"8.)Median of Median Income is\",np.median(d['median_income']))\n",
        "print(\"9.)Median of Median House Value is\",np.median(d['median_house_value']))"
      ],
      "metadata": {
        "colab": {
          "base_uri": "https://localhost:8080/"
        },
        "id": "g8agUwTr-zDp",
        "outputId": "16867c3f-7be8-439b-dbdb-09b6999e40b9"
      },
      "execution_count": null,
      "outputs": [
        {
          "output_type": "stream",
          "name": "stdout",
          "text": [
            "1.)Median of Longitude is -118.49\n",
            "2.)Median of Latitude is 34.25\n",
            "3.)Median of Housing Median Age is 29.0\n",
            "4.)Median of Total Rooms is 2127.0\n",
            "5.)Median of Total Bedrooms is 434.0\n",
            "6.)Median of population is 1167.0\n",
            "7.)Median of Households is 409.0\n",
            "8.)Median of Median Income is 3.5446\n",
            "9.)Median of Median House Value is 180400.0\n"
          ]
        }
      ]
    },
    {
      "cell_type": "code",
      "source": [
        "print(\"Mode of Longitude:\",d['longitude'].mode())\n",
        "print(\"Mode of Latitude:\",d['latitude'].mode())\n",
        "print(\"Mode of Housing Median Age:\",d['housing_median_age'].mode())\n",
        "print(\"Mode of Total Rooms:\",d['total_rooms'].mode())\n",
        "print(\"Mode of Total Bedrooms:\",d['total_bedrooms'].mode())\n",
        "print(\"Mode of Population:\",d['population'].mode())\n",
        "print(\"Mode of Households:\",d['households'].mode())\n",
        "print(\"Mode of Median Income:\",d['median_income'].mode())\n",
        "print(\"Mode of Median House Value:\",d['median_house_value'].mode())"
      ],
      "metadata": {
        "colab": {
          "base_uri": "https://localhost:8080/"
        },
        "id": "J2ldCY9z_RaJ",
        "outputId": "a3c6e71c-54bb-4eca-b42d-160085e49f84"
      },
      "execution_count": null,
      "outputs": [
        {
          "output_type": "stream",
          "name": "stdout",
          "text": [
            "Mode of Longitude: 0   -118.31\n",
            "Name: longitude, dtype: float64\n",
            "Mode of Latitude: 0    34.06\n",
            "Name: latitude, dtype: float64\n",
            "Mode of Housing Median Age: 0    52.0\n",
            "Name: housing_median_age, dtype: float64\n",
            "Mode of Total Rooms: 0    1582.0\n",
            "Name: total_rooms, dtype: float64\n",
            "Mode of Total Bedrooms: 0    280.0\n",
            "Name: total_bedrooms, dtype: float64\n",
            "Mode of Population: 0    891.0\n",
            "Name: population, dtype: float64\n",
            "Mode of Households: 0    306.0\n",
            "1    386.0\n",
            "Name: households, dtype: float64\n",
            "Mode of Median Income: 0    3.125\n",
            "Name: median_income, dtype: float64\n",
            "Mode of Median House Value: 0    500001.0\n",
            "Name: median_house_value, dtype: float64\n"
          ]
        }
      ]
    },
    {
      "cell_type": "code",
      "source": [
        "print(\"1.)Variance of Longitude is\",np.var(d['longitude']))\n",
        "print(\"2.)Variance of Latitude is\",np.var(d['latitude']))\n",
        "print(\"3.)Variance of Housing Median_age is\",np.var(d['housing_median_age']))\n",
        "print(\"4.)Variance of Total Rooms is\",np.var(d['total_rooms']))\n",
        "print(\"5.)Variance of Total Bedrooms is\",np.var(d['total_bedrooms']))\n",
        "print(\"6.)Variance of Population is\",np.var(d['population']))\n",
        "print(\"7.)Variance of Households is\",np.var(d['households']))\n",
        "print(\"8.)Variance of Median Income is\",np.var(d['median_income']))\n",
        "print(\"9.)Variance of Median House Value is\",np.var(d['median_house_value']))\n"
      ],
      "metadata": {
        "colab": {
          "base_uri": "https://localhost:8080/"
        },
        "id": "ydqyHts5AVNM",
        "outputId": "5cd5fb8b-ffd2-4515-9ddd-20479b9162e7"
      },
      "execution_count": null,
      "outputs": [
        {
          "output_type": "stream",
          "name": "stdout",
          "text": [
            "1.)Variance of Longitude is 4.020455814167474\n",
            "2.)Variance of Latitude is 4.56795267891903\n",
            "3.)Variance of Housing Median_age is 158.42166311072666\n",
            "4.)Variance of Total Rooms is 4751889.69496877\n",
            "5.)Variance of Total Bedrooms is 177651.3369887336\n",
            "6.)Variance of Population is 1317488.9119444669\n",
            "7.)Variance of Households is 147847.57962446712\n",
            "8.)Variance of Median Income is 3.6408471185562723\n",
            "9.)Variance of Median House Value is 13451442293.56867\n"
          ]
        }
      ]
    },
    {
      "cell_type": "code",
      "source": [
        "print(\"1.)Standard deviation of Longitude is\",np.std(d['longitude']))\n",
        "print(\"2.)Standard deviation of Latitude is\",np.std(d['latitude']))\n",
        "print(\"3.)Standard deviation of Housing Median Age is\",np.std(d['housing_median_age']))\n",
        "print(\"4.)Standard deviation of Total Rooms is\",np.std(d['total_rooms']))\n",
        "print(\"5.)Standard deviation of Total Bedrooms is\",np.std(d['total_bedrooms']))\n",
        "print(\"6.)Standard deviation of Population is\",np.std(d['population']))\n",
        "print(\"7.)Standard deviation of Households is\",np.std(d['households']))\n",
        "print(\"8.)Standard deviation of Median Income is\",np.std(d['median_income']))\n",
        "print(\"9.)Standard deviation of Median House Value is\",np.std(d['median_house_value']))"
      ],
      "metadata": {
        "colab": {
          "base_uri": "https://localhost:8080/"
        },
        "id": "wSiYCOJoAwzs",
        "outputId": "77b1d98b-80b0-45e7-cd9f-b1967f9dd108"
      },
      "execution_count": null,
      "outputs": [
        {
          "output_type": "stream",
          "name": "stdout",
          "text": [
            "1.)Standard deviation of Longitude is 2.005107432076265\n",
            "2.)Standard deviation of Latitude is 2.1372769307974644\n",
            "3.)Standard deviation of Housing Median Age is 12.58656677218719\n",
            "4.)Standard deviation of Total Rooms is 2179.8829544195187\n",
            "5.)Standard deviation of Total Bedrooms is 421.4870543548563\n",
            "6.)Standard deviation of Population is 1147.819198281884\n",
            "7.)Standard deviation of Households is 384.50953125308496\n",
            "8.)Standard deviation of Median Income is 1.9081003953032116\n",
            "9.)Standard deviation of Median House Value is 115980.35304985354\n"
          ]
        }
      ]
    },
    {
      "cell_type": "code",
      "source": [
        "print(\"1.)Range of Longitude is \",max(d['longitude'])-min(d['longitude']))\n",
        "print(\"2.)Range of Latitude is \",max(d['latitude'])-min(d['latitude']))\n",
        "print(\"3.)Range of Housing Median Age is \",max(d['housing_median_age'])-min(d['housing_median_age']))\n",
        "print(\"4.)Range of Total Rooms is \",max(d['total_rooms'])-min(d['total_rooms']))\n",
        "print(\"5.)Range of Total Bedrooms is \",max(d['total_bedrooms'])-min(d['total_bedrooms']))\n",
        "print(\"6.)Range of Population is \",max(d['population'])-min(d['population']))\n",
        "print(\"7.)Range of Households is \",max(d['households'])-min(d['households']))\n",
        "print(\"8.)Range of Median Income is \",max(d['median_income'])-min(d['median_income']))\n",
        "print(\"9.)Range of Median House Value is \",max(d['median_house_value'])-min(d['median_house_value']))"
      ],
      "metadata": {
        "colab": {
          "base_uri": "https://localhost:8080/"
        },
        "id": "vTZdT4DJBDBk",
        "outputId": "730021e4-9113-4f87-da6e-2b6bf09c40d5"
      },
      "execution_count": null,
      "outputs": [
        {
          "output_type": "stream",
          "name": "stdout",
          "text": [
            "1.)Range of Longitude is  10.039999999999992\n",
            "2.)Range of Latitude is  9.410000000000004\n",
            "3.)Range of Housing Median Age is  51.0\n",
            "4.)Range of Total Rooms is  37935.0\n",
            "5.)Range of Total Bedrooms is  6444.0\n",
            "6.)Range of Population is  35679.0\n",
            "7.)Range of Households is  6081.0\n",
            "8.)Range of Median Income is  14.5002\n",
            "9.)Range of Median House Value is  485002.0\n"
          ]
        }
      ]
    },
    {
      "cell_type": "code",
      "source": [
        "print(\"1.)Interquartile range of Longitude is \",np.percentile(d['longitude'],75)-np.percentile(d['longitude'],25))\n",
        "print(\"2.)Interquartile range of Latitude is \",np.percentile(d['latitude'],75)-np.percentile(d['latitude'],25))\n",
        "print(\"3.)Interquartile range of Housing Median Age is \",np.percentile(d['housing_median_age'],75)-np.percentile(d['housing_median_age'],25))\n",
        "print(\"4.)Interquartile range of Total Rooms is \",np.percentile(d['total_rooms'],75)-np.percentile(d['total_rooms'],25))\n",
        "print(\"5.)Interquartile range of Total Bedrooms is \",np.percentile(d['total_bedrooms'],75)-np.percentile(d['total_bedrooms'],25))\n",
        "print(\"6.)Interquartile range of Population is \",np.percentile(d['population'],75)-np.percentile(d['population'],25))\n",
        "print(\"7.)Interquartile range of Households is \",np.percentile(d['households'],75)-np.percentile(d['households'],25))\n",
        "print(\"8.)Interquartile range of Median Income is \",np.percentile(d['median_income'],75)-np.percentile(d['median_income'],25))\n",
        "print(\"9.)Interquartile range of Median House_value is \",np.percentile(d['median_house_value'],75)-np.percentile(d['median_house_value'],25))\n"
      ],
      "metadata": {
        "colab": {
          "base_uri": "https://localhost:8080/"
        },
        "id": "9zmewRG8EBvK",
        "outputId": "09a43955-c885-4618-ebc1-51afecd16d4b"
      },
      "execution_count": null,
      "outputs": [
        {
          "output_type": "stream",
          "name": "stdout",
          "text": [
            "1.)Interquartile range of Longitude is  3.7900000000000063\n",
            "2.)Interquartile range of Latitude is  3.789999999999999\n",
            "3.)Interquartile range of Housing Median Age is  19.0\n",
            "4.)Interquartile range of Total Rooms is  1689.25\n",
            "5.)Interquartile range of Total Bedrooms is  351.25\n",
            "6.)Interquartile range of Population is  931.0\n",
            "7.)Interquartile range of Households is  323.25\n",
            "8.)Interquartile range of Median Income is  2.2006250000000005\n",
            "9.)Interquartile range of Median House_value is  145600.0\n"
          ]
        }
      ]
    },
    {
      "cell_type": "code",
      "source": [
        "columns = ['longitude', 'latitude', 'housing_median_age', 'total_rooms',\n",
        "           'total_bedrooms', 'population', 'households', 'median_income', 'median_house_value']\n",
        "\n",
        "for a in columns:\n",
        "    values = d[a]\n",
        "    mean = np.mean(values)\n",
        "    std = np.std(values)\n",
        "    kurtosis = np.mean(((values - mean) / std) ** 4) - 3\n",
        "    print(\"Kurtosis of\",a, \":\", kurtosis)\n"
      ],
      "metadata": {
        "colab": {
          "base_uri": "https://localhost:8080/"
        },
        "id": "PJlmEE0LrREV",
        "outputId": "fdceaf30-532a-449c-e7a9-548c308581eb"
      },
      "execution_count": null,
      "outputs": [
        {
          "output_type": "stream",
          "name": "stdout",
          "text": [
            "Kurtosis of longitude : -1.3222937000181345\n",
            "Kurtosis of latitude : -1.1122523149717822\n",
            "Kurtosis of housing_median_age : -0.8009436273526562\n",
            "Kurtosis of total_rooms : 29.50685142754096\n",
            "Kurtosis of total_bedrooms : 19.6866056565209\n",
            "Kurtosis of population : 80.83786311937729\n",
            "Kurtosis of households : 20.686206054602916\n",
            "Kurtosis of median_income : 4.76239090620088\n",
            "Kurtosis of median_house_value : 0.30355527450221276\n"
          ]
        }
      ]
    },
    {
      "cell_type": "code",
      "source": [
        " columns = ['longitude', 'latitude', 'housing_median_age', 'total_rooms',\n",
        "           'total_bedrooms', 'population', 'households', 'median_income', 'median_house_value']\n",
        "\n",
        "for a in columns:\n",
        "    values = d[a]\n",
        "    mean = np.mean(values)\n",
        "    std = np.std(values)\n",
        "    skewness = np.mean(((values - mean) / std) ** 3)\n",
        "    print(\"Skewness of\",a, \":\", skewness)"
      ],
      "metadata": {
        "colab": {
          "base_uri": "https://localhost:8080/"
        },
        "id": "11oMsJqA6x85",
        "outputId": "cea1d9cd-66f2-4747-faf4-e4970f43e708"
      },
      "execution_count": null,
      "outputs": [
        {
          "output_type": "stream",
          "name": "stdout",
          "text": [
            "Skewness of longitude : -0.3039761523070952\n",
            "Skewness of latitude : 0.47175948982753174\n",
            "Skewness of housing_median_age : 0.06488830685009046\n",
            "Skewness of total_rooms : 4.00237680794326\n",
            "Skewness of total_bedrooms : 3.322343534496144\n",
            "Skewness of population : 5.1867541718637655\n",
            "Skewness of households : 3.3423734139781573\n",
            "Skewness of median_income : 1.6265495626993864\n",
            "Skewness of median_house_value : 0.972950775194606\n"
          ]
        }
      ]
    }
  ]
}